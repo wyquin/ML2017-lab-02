{
 "cells": [
  {
   "cell_type": "code",
   "execution_count": 41,
   "metadata": {},
   "outputs": [],
   "source": [
    "from sklearn.datasets import load_svmlight_file\n",
    "from sklearn.cross_validation import train_test_split\n",
    "from numpy import *\n",
    "import numpy as np\n",
    "import matplotlib.pyplot as plt"
   ]
  },
  {
   "cell_type": "code",
   "execution_count": 42,
   "metadata": {
    "collapsed": true
   },
   "outputs": [],
   "source": [
    "reg = 1\n",
    "train_file = \"a9a\"\n",
    "valid_file = \"a9at\"\n",
    "num_iter = 100  # 最大迭代次数\n",
    "k = 100  # 每次训练的batch"
   ]
  },
  {
   "cell_type": "code",
   "execution_count": 43,
   "metadata": {
    "collapsed": true
   },
   "outputs": [],
   "source": [
    "def classify(label):\n",
    "    if label == 1:\n",
    "        return 1\n",
    "    else:\n",
    "        return 0"
   ]
  },
  {
   "cell_type": "code",
   "execution_count": 44,
   "metadata": {
    "collapsed": true
   },
   "outputs": [],
   "source": [
    "def nag_stocGradAscent(dataMatrix, classLabels, X1, y1, weights, eta = 0.01, gamma = 0.9):\n",
    "    # 训练及优化\n",
    "    print('NAG start ^O^')\n",
    "    new_weights = weights\n",
    "    m, n = shape(dataMatrix)\n",
    "    loss_valid = []\n",
    "    monu = mat(np.zeros((n,2)))  # NAG\n",
    "    for j in range(num_iter):\n",
    "        loss = compute_loss(new_weights, X1, y1)\n",
    "        loss_valid.append(float(loss))\n",
    "        dataIndex = list(range(m))\n",
    "        w_gradient = np.zeros((n, 2))  # n*2\n",
    "        for i in range(k):\n",
    "            temp_weights = new_weights - gamma * monu\n",
    "            randIndex = int(random.uniform(0, len(dataIndex)))\n",
    "            v = dataMatrix[randIndex, :]  # 1*n\n",
    "            score = predict(temp_weights, v)  # 1*2\n",
    "            correct_score = classify(classLabels[randIndex])\n",
    "            for j in range(2):\n",
    "                if j == correct_score:  # classify(label[i])=correct_score\n",
    "                    continue\n",
    "                margin = score[0, j] - correct_score + 1\n",
    "                if margin > 0:\n",
    "                    w_gradient[:, correct_score] = w_gradient[:, correct_score] - v\n",
    "                    w_gradient[:, j] = w_gradient[:, j] + v\n",
    "            del (dataIndex[randIndex])\n",
    "        w_gradient /= k\n",
    "        w_gradient += 2 * reg * new_weights\n",
    "        monu = gamma * monu + eta * w_gradient\n",
    "        new_weights = new_weights - monu\n",
    "    print('final valid_error={0}'.format(float(loss)))\n",
    "\n",
    "    return [new_weights, loss_valid]"
   ]
  },
  {
   "cell_type": "code",
   "execution_count": 45,
   "metadata": {
    "collapsed": true
   },
   "outputs": [],
   "source": [
    "def rmsp_stocGradAscent(dataMatrix, classLabels, X1, y1, weights, eta = 0.01, gamma = 0.9, eps = 1e-8):\n",
    "\n",
    "    print('RMSProp start ^O^')\n",
    "    new_weights = weights\n",
    "    m, n = shape(dataMatrix)\n",
    "    loss_valid = []\n",
    "    g = mat(np.zeros((n, 2)))\n",
    "    for j in range(num_iter):\n",
    "        loss = compute_loss(new_weights, X1, y1)\n",
    "        loss_valid.append(float(loss))\n",
    "        dataIndex = list(range(m))\n",
    "        epsilon = np.ones((n, 2)) * eps\n",
    "        w_gradient = np.zeros((n, 2))  # n*2\n",
    "        for i in range(k):\n",
    "            randIndex = int(random.uniform(0, len(dataIndex)))\n",
    "            v = dataMatrix[randIndex, :]  # 1*n\n",
    "            score = predict(new_weights, v)  # 1*2\n",
    "            correct_score = classify(classLabels[randIndex])\n",
    "            for j in range(2):\n",
    "                if j == correct_score:  # classify(label[i])=correct_score\n",
    "                    continue\n",
    "                margin = score[0, j] - correct_score + 1\n",
    "                if margin > 0:\n",
    "                    w_gradient[:, correct_score] = w_gradient[:, correct_score] - v\n",
    "                    w_gradient[:, j] = w_gradient[:, j] + v\n",
    "            del (dataIndex[randIndex])\n",
    "        w_gradient /= k\n",
    "        w_gradient += 2 * reg * new_weights\n",
    "        g = gamma * g + (1 - gamma) * square(w_gradient)\n",
    "        new_weights = new_weights - eta * w_gradient / sqrt(g + epsilon)\n",
    "    print('final valid_error={0}'.format(float(loss)))\n",
    "\n",
    "    return [new_weights, loss_valid]"
   ]
  },
  {
   "cell_type": "code",
   "execution_count": 46,
   "metadata": {
    "collapsed": true
   },
   "outputs": [],
   "source": [
    "def adadelta_stocGradAscent(dataMatrix, classLabels, X1, y1, weights, eta = 0.5, gamma = 0.95, eps = 1e-5):\n",
    "\n",
    "    print('AdaDelta start ^O^')\n",
    "    new_weights = weights\n",
    "    m, n = shape(dataMatrix)\n",
    "    loss_valid = []\n",
    "    g = mat(np.zeros((n, 2)))\n",
    "    delta = mat(np.zeros((n, 2)))  # delta\n",
    "    for j in range(num_iter):\n",
    "        loss = compute_loss(new_weights, X1, y1)\n",
    "        loss_valid.append(float(loss))\n",
    "        dataIndex = list(range(m))\n",
    "        epsilon = np.ones((n, 2)) * eps\n",
    "        w_gradient = np.zeros((n, 2))  # n*2\n",
    "        for i in range(k):\n",
    "            randIndex = int(random.uniform(0, len(dataIndex)))\n",
    "            v = dataMatrix[randIndex, :]  # 1*n\n",
    "            score = predict(new_weights, v)  # 1*2\n",
    "            correct_score = classify(classLabels[randIndex])\n",
    "            for j in range(2):\n",
    "                if j == correct_score:  # classify(label[i])=correct_score\n",
    "                    continue\n",
    "                margin = score[0, j] - correct_score + 1\n",
    "                if margin > 0:\n",
    "                    w_gradient[:, correct_score] = w_gradient[:, correct_score] - v\n",
    "                    w_gradient[:, j] = w_gradient[:, j] + v\n",
    "            del (dataIndex[randIndex])\n",
    "        w_gradient /= k\n",
    "        w_gradient += 2 * reg * new_weights\n",
    "        g = gamma * g + (1 - gamma) * square(w_gradient)\n",
    "        dx = sqrt(delta + epsilon) / sqrt(g + epsilon)\n",
    "        new_weights = new_weights - dx.A * w_gradient\n",
    "        delta = gamma * delta + (1 - gamma) * square(dx.A * w_gradient)\n",
    "    print('final valid_error={0}'.format(float(loss)))\n",
    "\n",
    "    return [new_weights, loss_valid]"
   ]
  },
  {
   "cell_type": "code",
   "execution_count": 47,
   "metadata": {
    "collapsed": true
   },
   "outputs": [],
   "source": [
    "def adam_stocGradAscent(dataMatrix, classLabels, X1, y1, weights, eta = 0.01, gamma = 0.999, eps = 1e-8, beta = 0.9):\n",
    "\n",
    "    print('Adam start ^O^')\n",
    "    new_weights = weights\n",
    "    m, n = shape(dataMatrix)\n",
    "    loss_valid = []\n",
    "    g = mat(np.zeros((n, 2)))\n",
    "    moments = mat(np.zeros((n, 2)))  # delta\n",
    "    for j in range(num_iter):\n",
    "        loss = compute_loss(new_weights, X1, y1)\n",
    "        loss_valid.append(float(loss))\n",
    "        dataIndex = list(range(m))\n",
    "        epsilon = np.ones((n, 2)) * eps\n",
    "        w_gradient = np.zeros((n, 2))  # n*2\n",
    "        for i in range(k):\n",
    "            randIndex = int(random.uniform(0, len(dataIndex)))\n",
    "            v = dataMatrix[randIndex, :]  # 1*n\n",
    "            score = predict(new_weights, v)  # 1*2\n",
    "            correct_score = classify(classLabels[randIndex])\n",
    "            for j in range(2):\n",
    "                if j == correct_score:  # classify(label[i])=correct_score\n",
    "                    continue\n",
    "                margin = score[0, j] - correct_score + 1\n",
    "                if margin > 0:\n",
    "                    w_gradient[:, correct_score] = w_gradient[:, correct_score] - v\n",
    "                    w_gradient[:, j] = w_gradient[:, j] + v\n",
    "            del (dataIndex[randIndex])\n",
    "        w_gradient /= k\n",
    "        w_gradient += 2 * reg * new_weights\n",
    "        g = gamma * g + (1 - gamma) * square(w_gradient)\n",
    "        moments = beta * moments + (1 - beta) * w_gradient\n",
    "        alpha = eta * sqrt(1 - gamma ** (j + 1)) / (1 - beta ** (j + 1))\n",
    "        new_weights = new_weights - alpha * moments / sqrt(g + epsilon)\n",
    "    print('final valid_error={0}'.format(float(loss)))\n",
    "\n",
    "    return [new_weights, loss_valid]"
   ]
  },
  {
   "cell_type": "code",
   "execution_count": 48,
   "metadata": {
    "collapsed": true
   },
   "outputs": [],
   "source": [
    "def predict(w,v):\n",
    "\n",
    "    return v*w  # 1*M * M*2 = 1*2"
   ]
  },
  {
   "cell_type": "code",
   "execution_count": 49,
   "metadata": {
    "collapsed": true
   },
   "outputs": [],
   "source": [
    "def compute_loss(w, data, label):\n",
    "    # 计算Loss函数值\n",
    "    n, m = shape(data)\n",
    "    loss = 0.0\n",
    "    for i in range(n):\n",
    "        v = data[i, :]  # 1*M\n",
    "        score = predict(w, v)  # 1*2\n",
    "        correct_score = classify(label[i])\n",
    "        for j in range(2):\n",
    "            if j == correct_score:\n",
    "                continue\n",
    "            margin = score[0, j]-correct_score+1\n",
    "            if margin > 0:\n",
    "                loss += margin\n",
    "    loss /= n\n",
    "\n",
    "    return loss"
   ]
  },
  {
   "cell_type": "code",
   "execution_count": 50,
   "metadata": {
    "collapsed": true
   },
   "outputs": [],
   "source": [
    "def get_data(filename):\n",
    "    # 读入数据\n",
    "    data = load_svmlight_file(filename)\n",
    "    X = data[0].toarray()\n",
    "    y = data[1]\n",
    "    count = X.shape[0]\n",
    "    if filename=='a9at':\n",
    "        X = np.column_stack((X, np.zeros((count, 1))))\n",
    "    np.c_[X, np.ones(count)]\n",
    "\n",
    "    return [X, y]\n"
   ]
  },
  {
   "cell_type": "code",
   "execution_count": 51,
   "metadata": {
    "collapsed": true
   },
   "outputs": [],
   "source": [
    "def plot_loss(y1, y2, y3, y4):\n",
    "\n",
    "    plt.plot(y1, label='NAG_loss')\n",
    "    plt.plot(y2, label='RMSProp_loss')\n",
    "    plt.plot(y3, label='AdaDelta_loss')\n",
    "    plt.plot(y4, label='Adam_loss')\n",
    "    plt.legend()\n",
    "    plt.xlabel('iteration');\n",
    "    plt.ylabel('Loss');\n",
    "    plt.show()"
   ]
  },
  {
   "cell_type": "code",
   "execution_count": 52,
   "metadata": {
    "collapsed": true
   },
   "outputs": [],
   "source": [
    "def svm_classification():\n",
    "\n",
    "    # 参数初始化\n",
    "    X, y = get_data(train_file)\n",
    "    X1, y1 = get_data(valid_file)\n",
    "    m, n = shape(X)\n",
    "    weights = mat(np.zeros((n, 2)))\n",
    "    weights_nag, loss_nag = nag_stocGradAscent(X, y, X1, y1, weights)\n",
    "    weights_rms, loss_rms = rmsp_stocGradAscent(X, y, X1, y1, weights)\n",
    "    weights_delta, loss_delta = adadelta_stocGradAscent(X, y, X1, y1, weights)\n",
    "    weights_adam, loss_adam = adam_stocGradAscent(X, y, X1, y1, weights)\n",
    "    plot_loss(loss_nag, loss_rms, loss_delta, loss_adam)"
   ]
  },
  {
   "cell_type": "code",
   "execution_count": 53,
   "metadata": {},
   "outputs": [
    {
     "name": "stdout",
     "output_type": "stream",
     "text": [
      "NAG start ^O^\n",
      "final valid_error=0.2527197823358365\n",
      "RMSProp start ^O^\n",
      "final valid_error=0.25973604055311444\n",
      "AdaDelta start ^O^\n",
      "final valid_error=0.24105599426162025\n",
      "Adam start ^O^\n",
      "final valid_error=0.2696012450839969\n"
     ]
    },
    {
     "data": {
      "image/png": "[encoded data removed]",
      "text/plain": [
       "<matplotlib.figure.Figure at 0x7fc4c50070b8>"
      ]
     },
     "metadata": {},
     "output_type": "display_data"
    }
   ],
   "source": [
    "if __name__ == '__main__':\n",
    "\n",
    "    svm_classification()"
   ]
  },
  {
   "cell_type": "code",
   "execution_count": null,
   "metadata": {
    "collapsed": true
   },
   "outputs": [],
   "source": []
  }
 ],
 "metadata": {
  "kernelspec": {
   "display_name": "Python 3",
   "language": "python",
   "name": "python3"
  },
  "language_info": {
   "codemirror_mode": {
    "name": "ipython",
    "version": 3
   },
   "file_extension": ".py",
   "mimetype": "text/x-python",
   "name": "python",
   "nbconvert_exporter": "python",
   "pygments_lexer": "ipython3",
   "version": "3.6.1"
  }
 },
 "nbformat": 4,
 "nbformat_minor": 2
}
