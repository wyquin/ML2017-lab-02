{
 "cells": [
  {
   "cell_type": "code",
   "execution_count": 14,
   "metadata": {
    "collapsed": true
   },
   "outputs": [],
   "source": [
    "from sklearn.datasets import load_svmlight_file\n",
    "import numpy as np\n",
    "from numpy import *\n",
    "import matplotlib.pyplot as plt"
   ]
  },
  {
   "cell_type": "code",
   "execution_count": 15,
   "metadata": {
    "collapsed": true
   },
   "outputs": [],
   "source": [
    "train_file = \"a9a\"\n",
    "valid_file = \"a9at\"\n",
    "num_iter = 100  # 最大迭代次数\n",
    "k = 200  # 每次训练的batch"
   ]
  },
  {
   "cell_type": "code",
   "execution_count": 16,
   "metadata": {
    "collapsed": true
   },
   "outputs": [],
   "source": [
    "def get_data(filename):\n",
    "    # 读入数据\n",
    "    data = load_svmlight_file(filename)\n",
    "    X = data[0].toarray()\n",
    "    y = data[1]\n",
    "    count = X.shape[0]\n",
    "    if filename == 'a9at':\n",
    "        X = np.column_stack((X, np.zeros((count, 1))))\n",
    "    np.c_[X, np.ones(count)]\n",
    "    return [X, y]"
   ]
  },
  {
   "cell_type": "code",
   "execution_count": 17,
   "metadata": {
    "collapsed": true
   },
   "outputs": [],
   "source": [
    "def sigmoid(inx):\n",
    "    return 1.0/(1.0+exp(-inx))"
   ]
  },
  {
   "cell_type": "code",
   "execution_count": 18,
   "metadata": {
    "collapsed": true
   },
   "outputs": [],
   "source": [
    "def compute_loss(weights, dataMatrix, classLabels):\n",
    "\n",
    "    totalError = 0.0\n",
    "    count = dataMatrix.shape[0]\n",
    "    for i in range(0, count):\n",
    "        h = sigmoid(sum(dataMatrix[i]*weights))\n",
    "        totalError = totalError-np.maximum(classLabels[i], 0)*log(h)-(1-np.maximum(classLabels[i], 0))*log(1-h)\n",
    "\n",
    "    return totalError/float(count)"
   ]
  },
  {
   "cell_type": "code",
   "execution_count": 19,
   "metadata": {
    "collapsed": true
   },
   "outputs": [],
   "source": [
    "def plot_loss(y1, y2, y3, y4):\n",
    "    plt.plot(y1, label='NAG_loss')\n",
    "    plt.plot(y2, label='RMSProp_loss')\n",
    "    plt.plot(y3, label='AdaDelta_loss')\n",
    "    plt.plot(y4, label='Adam_loss')\n",
    "    plt.legend()\n",
    "    plt.xlabel('iteration');\n",
    "    plt.ylabel('Loss');\n",
    "    plt.show()"
   ]
  },
  {
   "cell_type": "code",
   "execution_count": 20,
   "metadata": {
    "collapsed": true
   },
   "outputs": [],
   "source": [
    "def nag_stocGradAscent(dataMatrix, classLabels, X1, y1, weights, eta=0.001, gamma=0.9):\n",
    "    print('NAG start ^_^')\n",
    "    m, n = shape(dataMatrix)\n",
    "    new_weights = weights\n",
    "    loss_valid = []\n",
    "    v = zeros(n)  # NAG\n",
    "    for j in range(num_iter):\n",
    "        loss = compute_loss(new_weights, X1, y1)\n",
    "        loss_valid.append(float(loss))\n",
    "        dataIndex = list(range(m))\n",
    "        for i in range(k):\n",
    "            weights_grad = zeros(n)  # initialize to all zeros\n",
    "            temp_weights = new_weights - gamma * v\n",
    "            randIndex = int(random.uniform(0, len(dataIndex)))\n",
    "            h = sigmoid(sum(dataMatrix[randIndex]*temp_weights))\n",
    "            error = np.maximum(classLabels[randIndex], 0.0) - h\n",
    "            weights_grad = - error * dataMatrix[randIndex]\n",
    "            del (dataIndex[randIndex])\n",
    "            v = gamma * v + eta * weights_grad\n",
    "            new_weights = new_weights - v\n",
    "    print('final valid_error={0}'.format(float(loss)))\n",
    "\n",
    "    return [new_weights, loss_valid]"
   ]
  },
  {
   "cell_type": "code",
   "execution_count": 21,
   "metadata": {
    "collapsed": true
   },
   "outputs": [],
   "source": [
    "def rmsp_stocGradAscent(dataMatrix, classLabels, X1, y1, weights, eta = 0.0001, gamma = 0.9, eps = 1e-8):\n",
    "    print('RMSProp start ^_^')\n",
    "    m, n = shape(dataMatrix)\n",
    "    new_weights = weights\n",
    "    loss_valid = []\n",
    "    g = zeros(n)  # RMSProp\n",
    "    for j in range(num_iter):\n",
    "        loss = compute_loss(new_weights, X1, y1)\n",
    "        loss_valid.append(float(loss))\n",
    "        dataIndex = list(range(m))\n",
    "        epsilon = ones(n)*eps\n",
    "        weights_grad = zeros(n)  # initialize to all ones\n",
    "        for i in range(k):\n",
    "            randIndex = int(random.uniform(0, len(dataIndex)))\n",
    "            h = sigmoid(sum(dataMatrix[randIndex] * new_weights))\n",
    "            error = np.maximum(classLabels[randIndex], 0.0) - h\n",
    "            weights_grad = weights_grad - error * dataMatrix[randIndex]\n",
    "            del (dataIndex[randIndex])\n",
    "\n",
    "        g = gamma * g + (1 - gamma) * square(weights_grad/k)\n",
    "        new_weights = new_weights - eta * weights_grad / sqrt(g + epsilon)\n",
    "    print('final valid_error={0}'.format(float(loss)))\n",
    "    \n",
    "    return [new_weights, loss_valid]"
   ]
  },
  {
   "cell_type": "code",
   "execution_count": 22,
   "metadata": {
    "collapsed": true
   },
   "outputs": [],
   "source": [
    "def adadelta_stocGradAscent(dataMatrix, classLabels, X1, y1, weights, eta = 0.5, gamma = 0.95, eps = 1e-5):\n",
    "    print('AdaDelta start ^_^')\n",
    "    m,n = shape(dataMatrix)\n",
    "    new_weights = weights\n",
    "    loss_valid = []\n",
    "    g = zeros(n)\n",
    "    delta = zeros(n)    # delta\n",
    "    for j in range(num_iter):\n",
    "        loss = compute_loss(new_weights, X1, y1)\n",
    "        loss_valid.append(float(loss))\n",
    "        dataIndex = list(range(m))\n",
    "        epsilon = ones(n)*eps\n",
    "        weights_grad = zeros(n)  # initialize to all ones\n",
    "        for i in range(k):\n",
    "            randIndex = int(random.uniform(0, len(dataIndex)))\n",
    "            h = sigmoid(sum(dataMatrix[randIndex] * new_weights))\n",
    "            error = np.maximum(classLabels[randIndex], 0.0) - h\n",
    "            weights_grad = weights_grad - error * dataMatrix[randIndex]\n",
    "            del (dataIndex[randIndex])\n",
    "        weights_grad = weights_grad / k\n",
    "        g = gamma * g + (1 - gamma) * square(weights_grad)\n",
    "        dx = sqrt(delta + epsilon) / sqrt(g + epsilon)\n",
    "        new_weights = new_weights - dx * weights_grad\n",
    "        delta = gamma * delta + (1-gamma) * square(dx * weights_grad)\n",
    "    print('final valid_error={0}'.format(float(loss)))\n",
    "    \n",
    "    return [new_weights, loss_valid]"
   ]
  },
  {
   "cell_type": "code",
   "execution_count": 23,
   "metadata": {
    "collapsed": true
   },
   "outputs": [],
   "source": [
    "def adam_stocGradAscent(dataMatrix, classLabels, X1, y1, weights, eta = 0.05, gamma = 0.999, eps = 1e-8, beta=0.9):\n",
    "    print('Adam start ^_^')\n",
    "    m,n = shape(dataMatrix)\n",
    "    new_weights = weights\n",
    "    loss_valid = []\n",
    "    g = zeros(n)\n",
    "    moments = zeros(n)    # moments\n",
    "    for j in range(num_iter):\n",
    "        loss = compute_loss(new_weights, X1, y1)\n",
    "        loss_valid.append(float(loss))\n",
    "        dataIndex = list(range(m))\n",
    "        epsilon = ones(n)*eps\n",
    "        weights_grad = zeros(n)  # initialize to all ones\n",
    "        for i in range(k):\n",
    "            randIndex = int(random.uniform(0, len(dataIndex)))\n",
    "            h = sigmoid(sum(dataMatrix[randIndex] * new_weights))\n",
    "            error = np.maximum(classLabels[randIndex], 0.0) - h\n",
    "            weights_grad = weights_grad - error * dataMatrix[randIndex]\n",
    "            del (dataIndex[randIndex])\n",
    "\n",
    "        weights_grad = weights_grad / k\n",
    "        g = gamma * g + (1 - gamma) * square(weights_grad)\n",
    "        moments = beta * moments + (1 - beta) * weights_grad\n",
    "        alpha = eta * sqrt(1 - gamma**(j+1)) / (1 - beta**(j+1))\n",
    "        new_weights = new_weights - alpha * moments / sqrt(g + epsilon)\n",
    "    print('final valid_error={0}'.format(float(loss)))\n",
    "    \n",
    "    return [new_weights, loss_valid]"
   ]
  },
  {
   "cell_type": "code",
   "execution_count": 24,
   "metadata": {
    "collapsed": true
   },
   "outputs": [],
   "source": [
    "def logistic_regression():\n",
    "\n",
    "    # 参数初始化\n",
    "    X, y = get_data(train_file)\n",
    "    X1, y1 = get_data(valid_file)\n",
    "    m, n = shape(X)\n",
    "    weights = zeros(n)\n",
    "    weights_nag, loss_nag = nag_stocGradAscent(X, y, X1, y1, weights)\n",
    "    weights_rms, loss_rms = rmsp_stocGradAscent(X, y, X1, y1, weights)\n",
    "    weights_delta, loss_delta = adadelta_stocGradAscent(X, y, X1, y1, weights)\n",
    "    weights_adam, loss_adam = adam_stocGradAscent(X, y, X1, y1, weights)\n",
    "    plot_loss(loss_nag, loss_rms, loss_delta, loss_adam)"
   ]
  },
  {
   "cell_type": "code",
   "execution_count": 26,
   "metadata": {},
   "outputs": [
    {
     "name": "stdout",
     "output_type": "stream",
     "text": [
      "NAG start ^_^\n",
      "final valid_error=0.3280859012368811\n",
      "RMSProp start ^_^\n",
      "final valid_error=0.32652480025543795\n",
      "AdaDelta start ^_^\n",
      "final valid_error=0.3446306444234716\n",
      "Adam start ^_^\n",
      "final valid_error=0.32889985603791916\n"
     ]
    },
    {
     "data": {
      "image/png": "[encoded data removed]",
      "text/plain": [
       "<matplotlib.figure.Figure at 0x7fce23bb3b00>"
      ]
     },
     "metadata": {},
     "output_type": "display_data"
    }
   ],
   "source": [
    "if __name__ == '__main__':\n",
    "\n",
    "    logistic_regression()"
   ]
  },
  {
   "cell_type": "code",
   "execution_count": null,
   "metadata": {
    "collapsed": true
   },
   "outputs": [],
   "source": []
  }
 ],
 "metadata": {
  "kernelspec": {
   "display_name": "Python 3",
   "language": "python",
   "name": "python3"
  },
  "language_info": {
   "codemirror_mode": {
    "name": "ipython",
    "version": 3
   },
   "file_extension": ".py",
   "mimetype": "text/x-python",
   "name": "python",
   "nbconvert_exporter": "python",
   "pygments_lexer": "ipython3",
   "version": "3.6.1"
  }
 },
 "nbformat": 4,
 "nbformat_minor": 2
}
